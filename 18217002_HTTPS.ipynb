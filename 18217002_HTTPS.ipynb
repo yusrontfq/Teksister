{
 "cells": [
  {
   "cell_type": "code",
   "execution_count": null,
   "metadata": {},
   "outputs": [],
   "source": [
    "# Yusron Taufiq Anfasa\n",
    "# 18217002\n",
    "\n",
    "import os\n",
    "from http.server import HTTPServer, BaseHTTPRequestHandler\n",
    "import ssl\n",
    "from io import BytesIO\n",
    "\n",
    "class SimpleHTTPRequestHandler(BaseHTTPRequestHandler):\n",
    "\n",
    "    def do_GET(self):\n",
    "        self.send_response(200)\n",
    "        self.end_headers()\n",
    "        self.wfile.write(b'Hello, world!')\n",
    "\n",
    "    def do_POST(self):\n",
    "        content_length = int(self.headers['Content-Length'])\n",
    "        body = self.rfile.read(content_length)\n",
    "        self.send_response(200)\n",
    "        self.end_headers()\n",
    "        response = BytesIO()\n",
    "        response.write(b'This is POST request. ')\n",
    "        response.write(b'Received: ')\n",
    "        response.write(body)\n",
    "        self.wfile.write(response.getvalue())\n",
    "        \n",
    "httpd = HTTPServer(('localhost', 8001), SimpleHTTPRequestHandler)\n",
    "\n",
    "httpd.socket = ssl.wrap_socket (httpd.socket, \n",
    "        keyfile=\"key.pem\", \n",
    "        certfile='cert.pem', server_side=True)\n",
    "\n",
    "httpd.serve_forever()\n",
    "\n",
    "# Sumber: https://blog.anvileight.com/posts/simple-python-http-server/"
   ]
  },
  {
   "cell_type": "code",
   "execution_count": null,
   "metadata": {},
   "outputs": [],
   "source": []
  }
 ],
 "metadata": {
  "kernelspec": {
   "display_name": "Python 3",
   "language": "python",
   "name": "python3"
  },
  "language_info": {
   "codemirror_mode": {
    "name": "ipython",
    "version": 3
   },
   "file_extension": ".py",
   "mimetype": "text/x-python",
   "name": "python",
   "nbconvert_exporter": "python",
   "pygments_lexer": "ipython3",
   "version": "3.7.3"
  }
 },
 "nbformat": 4,
 "nbformat_minor": 2
}
